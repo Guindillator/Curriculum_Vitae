{
 "cells": [
  {
   "cell_type": "code",
   "execution_count": 1,
   "metadata": {},
   "outputs": [],
   "source": [
    "import logging\n",
    "import traceback\n",
    "from langchain_chroma import Chroma\n",
    "from langchain_huggingface import HuggingFaceEmbeddings\n",
    "from langchain.prompts import PromptTemplate\n",
    "from langchain_ollama import OllamaLLM\n",
    "import datetime\n",
    "\n",
    "# Configuración del logger\n",
    "logging.basicConfig(\n",
    "    filename=f\"/home/m/Escritorio/RAG/logs/{str(datetime.datetime.today().strftime('%Y-%m-%d'))}_query.log\",  # Guardar logs en un archivo\n",
    "    level=logging.DEBUG,  # Puedes cambiarlo a INFO en producción\n",
    "    format=\"%(asctime)s - %(levelname)s - %(message)s\",\n",
    "    datefmt=\"%Y-%m-%d %H:%M:%S\"\n",
    ")\n",
    "\n",
    "logging.debug(\"🧪 Query inicializada correctamente.\")\n",
    "\n",
    "\n",
    "# Ruta al directorio donde está la base vectorial\n",
    "CHROMA_PATH = \"db\"\n",
    "\n",
    "# Cargar embeddings\n",
    "EMBEDDING_MODEL_NAME = \"sentence-transformers/all-MiniLM-L6-v2\"\n",
    "\n",
    "def load_vector_store(persist_path):\n",
    "    \"\"\"Carga la base de datos vectorial desde disco.\"\"\"\n",
    "    try:\n",
    "        logging.info(f\"🧠 Cargando base vectorial desde: {persist_path}\")\n",
    "        embeddings = HuggingFaceEmbeddings(model_name=EMBEDDING_MODEL_NAME)\n",
    "        vectordb = Chroma(persist_directory=persist_path, embedding_function=embeddings)\n",
    "        logging.info(\"✅ Base vectorial cargada correctamente.\")\n",
    "        return vectordb\n",
    "    except Exception as e:\n",
    "        logging.error(f\"❌ Error cargando la base vectorial: {e}\")\n",
    "        traceback.print_exc()\n",
    "        return None\n",
    "\n",
    "def query_llm(query, vectordb):\n",
    "    \"\"\"Consulta el modelo LLM local usando el contexto de los documentos más relevantes.\"\"\"\n",
    "    try:\n",
    "        # Realiza la búsqueda en la base de datos vectorial\n",
    "        logging.info(\"🔍 Buscando en la base vectorial...\")\n",
    "        results = vectordb.similarity_search(query, k=3)  # Tomar los 3 resultados más relevantes\n",
    "        if not results:\n",
    "            logging.warning(\"⚠️ No se encontraron resultados relevantes.\")\n",
    "            return \"Lo siento, no pude encontrar información relevante.\"\n",
    "\n",
    "        # Concatenar los resultados más relevantes\n",
    "        context = \"\\n\".join([result.page_content for result in results])\n",
    "        logging.info(\"✅ Resultados encontrados, creando prompt para LLM...\")\n",
    "\n",
    "        # Configuración de Ollama (modelo local)\n",
    "        llm = OllamaLLM(model=\"llama3\")  # Puedes cambiarlo por otro modelo como llama3\n",
    "\n",
    "        # Pregunta al modelo con el contexto\n",
    "        prompt = f\"Contexto:\\n{context}\\n\\nPregunta: {query}\\nRespuesta:\"\n",
    "        response = llm(prompt)\n",
    "        \n",
    "        return response\n",
    "    except Exception as e:\n",
    "        logging.error(f\"❌ Error en la consulta LLM: {e}\")\n",
    "        traceback.print_exc()\n",
    "        return \"Hubo un error procesando tu consulta.\"\n",
    "\n",
    "\n"
   ]
  },
  {
   "cell_type": "code",
   "execution_count": 2,
   "metadata": {},
   "outputs": [
    {
     "name": "stderr",
     "output_type": "stream",
     "text": [
      "/home/m/.local/lib/python3.10/site-packages/tqdm/auto.py:21: TqdmWarning: IProgress not found. Please update jupyter and ipywidgets. See https://ipywidgets.readthedocs.io/en/stable/user_install.html\n",
      "  from .autonotebook import tqdm as notebook_tqdm\n",
      "2025-07-12 00:22:48.111363: I tensorflow/core/util/port.cc:111] oneDNN custom operations are on. You may see slightly different numerical results due to floating-point round-off errors from different computation orders. To turn them off, set the environment variable `TF_ENABLE_ONEDNN_OPTS=0`.\n",
      "2025-07-12 00:22:48.140053: E tensorflow/compiler/xla/stream_executor/cuda/cuda_dnn.cc:9342] Unable to register cuDNN factory: Attempting to register factory for plugin cuDNN when one has already been registered\n",
      "2025-07-12 00:22:48.140083: E tensorflow/compiler/xla/stream_executor/cuda/cuda_fft.cc:609] Unable to register cuFFT factory: Attempting to register factory for plugin cuFFT when one has already been registered\n",
      "2025-07-12 00:22:48.140103: E tensorflow/compiler/xla/stream_executor/cuda/cuda_blas.cc:1518] Unable to register cuBLAS factory: Attempting to register factory for plugin cuBLAS when one has already been registered\n",
      "2025-07-12 00:22:48.145829: I tensorflow/core/platform/cpu_feature_guard.cc:182] This TensorFlow binary is optimized to use available CPU instructions in performance-critical operations.\n",
      "To enable the following instructions: AVX2 AVX_VNNI FMA, in other operations, rebuild TensorFlow with the appropriate compiler flags.\n",
      "2025-07-12 00:22:48.819176: W tensorflow/compiler/tf2tensorrt/utils/py_utils.cc:38] TF-TRT Warning: Could not find TensorRT\n"
     ]
    }
   ],
   "source": [
    "if __name__ == \"__main__\":\n",
    "    logging.info(\"🚀 Iniciando consulta...\")\n",
    "\n",
    "    # Cargar base vectorial\n",
    "    vectordb = load_vector_store(CHROMA_PATH)\n",
    "    if not vectordb:\n",
    "        logging.warning(\"⚠️ No se pudo cargar la base vectorial. Finalizando.\")\n",
    "        exit()"
   ]
  },
  {
   "cell_type": "code",
   "execution_count": 3,
   "metadata": {},
   "outputs": [
    {
     "name": "stderr",
     "output_type": "stream",
     "text": [
      "/tmp/ipykernel_267790/123859627.py:58: LangChainDeprecationWarning: The method `BaseLLM.__call__` was deprecated in langchain-core 0.1.7 and will be removed in 1.0. Use :meth:`~invoke` instead.\n",
      "  response = llm(prompt)\n"
     ]
    }
   ],
   "source": [
    "# Ingresar consulta\n",
    "query = input(\"Escribe tu consulta: \")\n",
    "if not query.strip():\n",
    "    logging.warning(\"⚠️ No se ingresó ninguna consulta.\")\n",
    "    exit()\n",
    "\n",
    "# Consultar al LLM\n",
    "response = query_llm(query, vectordb)\n",
    "logging.info(f\"Pregunta al modelo:\\n{query}\")\n",
    "logging.info(f\"Respuesta del modelo:\\n{response}\")"
   ]
  },
  {
   "cell_type": "code",
   "execution_count": null,
   "metadata": {},
   "outputs": [],
   "source": []
  }
 ],
 "metadata": {
  "kernelspec": {
   "display_name": "usr",
   "language": "python",
   "name": "python3"
  },
  "language_info": {
   "codemirror_mode": {
    "name": "ipython",
    "version": 3
   },
   "file_extension": ".py",
   "mimetype": "text/x-python",
   "name": "python",
   "nbconvert_exporter": "python",
   "pygments_lexer": "ipython3",
   "version": "3.10.12"
  }
 },
 "nbformat": 4,
 "nbformat_minor": 2
}
